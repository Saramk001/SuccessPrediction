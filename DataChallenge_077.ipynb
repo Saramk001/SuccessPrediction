{
 "cells": [
  {
   "cell_type": "code",
   "execution_count": 1833,
   "id": "f27e559b-897b-429f-ac66-4b51d9b35414",
   "metadata": {},
   "outputs": [],
   "source": [
    "import seaborn as sns\n",
    "import numpy as np\n",
    "import pandas as pd\n",
    "import matplotlib.pyplot as plt\n",
    "from sklearn.model_selection import train_test_split\n",
    "from sklearn.preprocessing import StandardScaler\n",
    "from sklearn.linear_model import LogisticRegression\n",
    "from sklearn.metrics import classification_report, confusion_matrix, roc_curve, auc"
   ]
  },
  {
   "cell_type": "code",
   "execution_count": 1834,
   "id": "adb69453-b615-4ac2-8bc5-0d463eeabebb",
   "metadata": {},
   "outputs": [],
   "source": [
    "pd.set_option('display.max_row',111)\n",
    "pd.set_option('display.max_column',111)"
   ]
  },
  {
   "cell_type": "code",
   "execution_count": 1835,
   "id": "c70f5711-482a-4193-9d46-66d9b6c8c84b",
   "metadata": {},
   "outputs": [],
   "source": [
    "\n",
    "train_df=pd.read_csv('C:/Users/hp/Desktop/bac-mauritanie-2022-predictive-modeling-challeng (1)/train_set.csv',sep=',')\n",
    "test_df=pd.read_csv('C:/Users/hp/Desktop/bac-mauritanie-2022-predictive-modeling-challeng (1)/test_set.csv',sep=',')"
   ]
  },
  {
   "cell_type": "code",
   "execution_count": 1836,
   "id": "5a6c440b-3140-494b-a7c7-a359f2b5b877",
   "metadata": {},
   "outputs": [
    {
     "name": "stdout",
     "output_type": "stream",
     "text": [
      "['Nom', 'Serie,x', 'GroupeAnonymat', 'LieuNaissance', 'Centre', 'Etablissement', 'Decision', 'Willaya', 'moughataa', 'DateNaissance', 'ID']\n"
     ]
    }
   ],
   "source": [
    "string_vars = train_df.select_dtypes(include='object').columns.tolist()\n",
    "print(string_vars)\n"
   ]
  },
  {
   "cell_type": "code",
   "execution_count": 1837,
   "id": "fecadbe6-c9a9-4ff6-b1fa-ac00e678d631",
   "metadata": {},
   "outputs": [
    {
     "data": {
      "text/plain": [
       "0        12 ديسمبر 1998\n",
       "1        26 ديسمبر 1991\n",
       "2           8 مايو 1995\n",
       "3          24 avr. 1999\n",
       "4           10 mai 2001\n",
       "              ...      \n",
       "23889      15 مارس 2001\n",
       "23890      31 déc. 1995\n",
       "23891      6 févr. 1999\n",
       "23892      28 août 2000\n",
       "23893    21 ديسمبر 1997\n",
       "Name: DateNaissance, Length: 23894, dtype: object"
      ]
     },
     "execution_count": 1837,
     "metadata": {},
     "output_type": "execute_result"
    }
   ],
   "source": [
    "train_df['DateNaissance']\n"
   ]
  },
  {
   "cell_type": "code",
   "execution_count": 1839,
   "id": "e394ead1-31bb-411d-940d-2ebd8bf0f273",
   "metadata": {},
   "outputs": [],
   "source": [
    "train_df[\"Reussite\"] = train_df.apply(lambda row: \"Reussi\" if row[\"moyeneGeneral\"] >= 10 else \"Proche\" if row[\"moyeneGeneral\"] >= 7 else \"Loin\", axis=1)"
   ]
  },
  {
   "cell_type": "code",
   "execution_count": 1843,
   "id": "1c894384-74e0-4f87-87f4-0a3a6a8640bd",
   "metadata": {},
   "outputs": [
    {
     "data": {
      "text/plain": [
       "(23894, 22)"
      ]
     },
     "execution_count": 1843,
     "metadata": {},
     "output_type": "execute_result"
    }
   ],
   "source": [
    "train_df.shape"
   ]
  },
  {
   "cell_type": "code",
   "execution_count": 1786,
   "id": "50f79268-eb5e-4341-a083-4e1d23b3735c",
   "metadata": {},
   "outputs": [
    {
     "data": {
      "text/plain": [
       "(15930, 12)"
      ]
     },
     "execution_count": 1786,
     "metadata": {},
     "output_type": "execute_result"
    }
   ],
   "source": [
    "test_df.shape"
   ]
  },
  {
   "cell_type": "code",
   "execution_count": 1849,
   "id": "84f93a9b-8b54-49dd-9e86-d7c1461dd149",
   "metadata": {},
   "outputs": [],
   "source": [
    "import pandas as pd\n",
    "\n",
    "# define the replacement dictionary\n",
    "remplacements = {'janv.' : 'Jan',\n",
    "                 'févr.' : 'Feb',\n",
    "                 'mars' : 'Mar',\n",
    "                 'avr.' : 'Apr',\n",
    "                 'mai' : 'May',\n",
    "                 'juin' : 'Jun',\n",
    "                 'juil.' : 'Jul',\n",
    "                 'août' : 'Aug',\n",
    "                 'sept.' : 'Sep',\n",
    "                 'oct.' : 'Oct',\n",
    "                 'nov.' : 'Nov',\n",
    "                 'déc.' : 'Dec'}\n",
    "\n",
    "# replace the abbreviated month names with their English names\n",
    "train_df['DateNaissance'] = train_df['DateNaissance'].replace(remplacements, regex=True)\n",
    "\n",
    "# convert the DateNaissance column to datetime format\n",
    "#train_df['DateNaissance'] = pd.to_datetime(train_df['DateNaissance'], format='%d %b %Y', errors='coerce')\n"
   ]
  },
  {
   "cell_type": "code",
   "execution_count": 1850,
   "id": "25b6397b-ada6-4e17-a128-8542057b4c1a",
   "metadata": {},
   "outputs": [],
   "source": [
    "import pandas as pd\n",
    "\n",
    "# define the replacement dictionary\n",
    "remplacements = {'janv.' : 'Jan',\n",
    "                 'févr.' : 'Feb',\n",
    "                 'mars' : 'Mar',\n",
    "                 'avr.' : 'Apr',\n",
    "                 'mai' : 'May',\n",
    "                 'juin' : 'Jun',\n",
    "                 'juil.' : 'Jul',\n",
    "                 'août' : 'Aug',\n",
    "                 'sept.' : 'Sep',\n",
    "                 'oct.' : 'Oct',\n",
    "                 'nov.' : 'Nov',\n",
    "                 'déc.' : 'Dec'}\n",
    "\n",
    "# replace the abbreviated month names with their English names\n",
    "test_df['DateNaissance'] = test_df['DateNaissance'].replace(remplacements, regex=True)\n",
    "\n",
    "# convert the DateNaissance column to datetime format\n",
    "#train_df['DateNaissance'] = pd.to_datetime(train_df['DateNaissance'], format='%d %b %Y', errors='coerce')\n"
   ]
  },
  {
   "cell_type": "code",
   "execution_count": 1851,
   "id": "9b4cbe5f-05d8-4376-8746-16d891446150",
   "metadata": {},
   "outputs": [
    {
     "name": "stdout",
     "output_type": "stream",
     "text": [
      "0\n"
     ]
    }
   ],
   "source": [
    "print(train_df['DateNaissance'].isnull().sum())"
   ]
  },
  {
   "cell_type": "code",
   "execution_count": 1852,
   "id": "2635d881-b596-44d5-968a-bf3ab5f52bed",
   "metadata": {},
   "outputs": [
    {
     "data": {
      "text/plain": [
       "object     10\n",
       "int64       1\n",
       "float64     1\n",
       "dtype: int64"
      ]
     },
     "execution_count": 1852,
     "metadata": {},
     "output_type": "execute_result"
    }
   ],
   "source": [
    "test_df.dtypes.value_counts()"
   ]
  },
  {
   "cell_type": "markdown",
   "id": "6014836b-4e2e-4faa-88fd-75a9ec1664d0",
   "metadata": {},
   "source": [
    "# Conversion de la variable cible Decision"
   ]
  },
  {
   "cell_type": "code",
   "execution_count": 1853,
   "id": "9e443379-5247-409a-92a5-db4e0f9fd1bd",
   "metadata": {},
   "outputs": [
    {
     "data": {
      "text/plain": [
       "Ajourné                                  18966\n",
       "Admis                                     1973\n",
       "Sessionnaire                              1530\n",
       "Abscent                                   1068\n",
       "Examen annulé à cause du Téléphone         351\n",
       "Examen annulé à cause du comportement        6\n",
       "Name: Decision, dtype: int64"
      ]
     },
     "execution_count": 1853,
     "metadata": {},
     "output_type": "execute_result"
    }
   ],
   "source": [
    "train_df['Decision'].value_counts()"
   ]
  },
  {
   "cell_type": "code",
   "execution_count": 1854,
   "id": "dd24ed8c-622d-4f54-9d65-ec4b570b7ffc",
   "metadata": {},
   "outputs": [],
   "source": [
    "\n",
    "train_df['Decision'] = train_df['Decision'].replace({'Sessionnaire': 'Ajourné', 'Abscent': 'Ajourné','Examen annulé à cause du Téléphone':'Ajourné','Examen annulé à cause du comportement':'Ajourné'})\n",
    "     "
   ]
  },
  {
   "cell_type": "code",
   "execution_count": 1855,
   "id": "bbcccd50-2ea1-4137-a9cf-48add4d098e9",
   "metadata": {},
   "outputs": [
    {
     "data": {
      "text/plain": [
       "Ajourné    21921\n",
       "Admis       1973\n",
       "Name: Decision, dtype: int64"
      ]
     },
     "execution_count": 1855,
     "metadata": {},
     "output_type": "execute_result"
    }
   ],
   "source": [
    "train_df['Decision'].value_counts()"
   ]
  },
  {
   "cell_type": "markdown",
   "id": "a1d4a254-4de2-4f33-a118-118eca742171",
   "metadata": {},
   "source": [
    "# Test chi deux pour etudier les liason entre la variable cible et les autres features categorielles"
   ]
  },
  {
   "cell_type": "code",
   "execution_count": 1856,
   "id": "8df0e09b-0155-4f47-8759-0ccd89db4845",
   "metadata": {},
   "outputs": [],
   "source": [
    "contingency_table = pd.crosstab(train_df['Willaya'], train_df['Decision'])"
   ]
  },
  {
   "cell_type": "code",
   "execution_count": 1857,
   "id": "cd2fd967-2805-43e6-8e02-6d71146f4893",
   "metadata": {},
   "outputs": [
    {
     "name": "stdout",
     "output_type": "stream",
     "text": [
      "Statistique du chi-carré : 711.1552558446579\n",
      "P-valeur : 1.9809041192683006e-135\n",
      "Degrés de liberté : 23\n",
      "Tableau de contingence attendu :\n",
      "[[  54.74591948  608.25408052]\n",
      " [  77.20578388  857.79421612]\n",
      " [  63.66380681  707.33619319]\n",
      " [  71.17795262  790.82204738]\n",
      " [  75.96718842  844.03281158]\n",
      " [  67.21444714  746.78555286]\n",
      " [  77.94894116  866.05105884]\n",
      " [  60.27831255  669.72168745]\n",
      " [  51.6081443   573.3918557 ]\n",
      " [  66.63643593  740.36356407]\n",
      " [  34.59809994  384.40190006]\n",
      " [  32.94663932  366.05336068]\n",
      " [  89.34401942  992.65598058]\n",
      " [ 103.21628861 1146.78371139]\n",
      " [ 107.92295137 1199.07704863]\n",
      " [ 122.7035239  1363.2964761 ]\n",
      " [  94.87641249 1054.12358751]\n",
      " [ 112.05160291 1244.94839709]\n",
      " [ 108.50096258 1205.49903742]\n",
      " [ 109.49183896 1216.50816104]\n",
      " [  98.50962585 1094.49037415]\n",
      " [ 106.35406378 1181.64593622]\n",
      " [  88.51828911  983.48171089]\n",
      " [  97.51874948 1083.48125052]]\n"
     ]
    }
   ],
   "source": [
    "from scipy.stats import chi2_contingency\n",
    "chi2, p, dof, expected = chi2_contingency(contingency_table)\n",
    "print('Statistique du chi-carré :', chi2)\n",
    "print('P-valeur :', p)\n",
    "print('Degrés de liberté :', dof)\n",
    "print('Tableau de contingence attendu :')\n",
    "print(expected)\n"
   ]
  },
  {
   "cell_type": "code",
   "execution_count": 1858,
   "id": "c10941fe-b6c7-4dce-a004-bd1fa3e789f3",
   "metadata": {},
   "outputs": [],
   "source": [
    "\n",
    "\n",
    "\n",
    "from dateutil.parser import parse\n",
    "\n",
    "# Iterate over the DateNaissance column and parse each date\n",
    "dates = []\n",
    "for date_str in train_df['DateNaissance']:\n",
    "    try:\n",
    "        date = parse(date_str)\n",
    "        dates.append(date)\n",
    "    except:\n",
    "        dates.append(None)\n",
    "\n",
    "# Replace the DateNaissance column with the parsed dates\n",
    "train_df['DateNaissance'] = dates\n"
   ]
  },
  {
   "cell_type": "code",
   "execution_count": 1859,
   "id": "fc8ccbb3-0117-47bf-8a88-cf5341ff7088",
   "metadata": {},
   "outputs": [],
   "source": [
    "\n",
    "\n",
    "\n",
    "from dateutil.parser import parse\n",
    "\n",
    "# Iterate over the DateNaissance column and parse each date\n",
    "dates = []\n",
    "for date_str in test_df['DateNaissance']:\n",
    "    try:\n",
    "        date = parse(date_str)\n",
    "        dates.append(date)\n",
    "    except:\n",
    "        dates.append(None)\n",
    "\n",
    "# Replace the DateNaissance column with the parsed dates\n",
    "test_df['DateNaissance'] = dates\n"
   ]
  },
  {
   "cell_type": "code",
   "execution_count": null,
   "id": "ab33fc5b-4533-48eb-b6df-78e850a02d14",
   "metadata": {},
   "outputs": [],
   "source": []
  },
  {
   "cell_type": "code",
   "execution_count": 1860,
   "id": "2a6bb916-47c7-409a-83e7-9f4943111c44",
   "metadata": {},
   "outputs": [],
   "source": [
    "train_df['DateNaissance'] = pd.to_datetime(train_df['DateNaissance'], errors='coerce')\n",
    "train_df['year'] = train_df['DateNaissance'].dt.year\n",
    "train_df['month'] = train_df['DateNaissance'].dt.month\n",
    "train_df['day'] = train_df['DateNaissance'].dt.day\n",
    "#__________________________________\n"
   ]
  },
  {
   "cell_type": "code",
   "execution_count": 1861,
   "id": "0bf1d32d-f6b4-411b-ad70-f8677ae7d0b9",
   "metadata": {},
   "outputs": [],
   "source": [
    "test_df['DateNaissance'] = pd.to_datetime(test_df['DateNaissance'], errors='coerce')\n",
    "test_df['year'] = test_df['DateNaissance'].dt.year\n",
    "test_df['month'] = test_df['DateNaissance'].dt.month\n",
    "test_df['day'] = test_df['DateNaissance'].dt.day\n",
    "#__________________________________\n"
   ]
  },
  {
   "cell_type": "markdown",
   "id": "498b1ad8-9c10-41ab-b49e-d579625ab6e3",
   "metadata": {},
   "source": [
    "# Creation de la variable Age"
   ]
  },
  {
   "cell_type": "code",
   "execution_count": 1862,
   "id": "c600a378-07fe-4420-9468-709d3c351a5c",
   "metadata": {},
   "outputs": [],
   "source": [
    "import datetime\n",
    "\n",
    "train_df['Age'] = 2021 - train_df['year']\n"
   ]
  },
  {
   "cell_type": "code",
   "execution_count": 1863,
   "id": "d11dec68-8a81-482b-81ee-ea5c2e79cfa6",
   "metadata": {},
   "outputs": [],
   "source": [
    "import datetime\n",
    "\n",
    "test_df['Age'] = 2021 - test_df['year']\n"
   ]
  },
  {
   "cell_type": "code",
   "execution_count": 1864,
   "id": "e8589f36-a18b-4587-90e1-ea5ae1c8c6bf",
   "metadata": {},
   "outputs": [
    {
     "name": "stdout",
     "output_type": "stream",
     "text": [
      "year     0\n",
      "month    0\n",
      "day      0\n",
      "dtype: int64\n"
     ]
    }
   ],
   "source": [
    "print(train_df[['year','month','day']].isnull().sum())"
   ]
  },
  {
   "cell_type": "code",
   "execution_count": 1865,
   "id": "09818de6-20e7-4e6c-81c4-094a1143ae5a",
   "metadata": {},
   "outputs": [
    {
     "name": "stdout",
     "output_type": "stream",
     "text": [
      "year     0\n",
      "month    0\n",
      "day      0\n",
      "dtype: int64\n"
     ]
    }
   ],
   "source": [
    "print(test_df[['year','month','day']].isnull().sum())"
   ]
  },
  {
   "cell_type": "code",
   "execution_count": 1866,
   "id": "5289fa7c-8cd2-4ff4-89ea-146847800425",
   "metadata": {},
   "outputs": [
    {
     "name": "stdout",
     "output_type": "stream",
     "text": [
      "Index(['Unnamed: 0', 'Nom', 'Serie,x', 'GroupeAnonymat', 'LieuNaissance',\n",
      "       'Centre', 'Etablissement', 'moyeneGeneral', 'Decision', 'Note1',\n",
      "       'Note2', 'Note3', 'Note4', 'Note5', 'Note6', 'Note7', 'Note8',\n",
      "       'Willaya', 'moughataa', 'DateNaissance', 'ID', 'Reussite', 'year',\n",
      "       'month', 'day', 'Age'],\n",
      "      dtype='object')\n"
     ]
    }
   ],
   "source": [
    "print(train_df.columns)"
   ]
  },
  {
   "cell_type": "markdown",
   "id": "62e8a00b-a5cb-414e-ad9e-c5b286899abd",
   "metadata": {},
   "source": [
    "# Elimination des Variables non necessaire"
   ]
  },
  {
   "cell_type": "code",
   "execution_count": 1867,
   "id": "6fdc6c08-80da-4fe0-a6dd-c586939382ac",
   "metadata": {},
   "outputs": [],
   "source": [
    "train_df.drop('DateNaissance', axis=1, inplace=True)\n",
    "test_df.drop('DateNaissance', axis=1, inplace=True)\n",
    "train_df.drop(['Note1', 'Note2', 'Note3', 'Note4', 'Note5', 'Note6', 'Note7', 'Note8'], axis=1,inplace=True)\n",
    "train_df.drop('Nom', axis=1, inplace=True)\n",
    "#train_df.drop('GroupeAnonymat', axis=1, inplace=True)\n",
    "train_df.drop('Reussite', axis=1, inplace=True)"
   ]
  },
  {
   "cell_type": "code",
   "execution_count": 1868,
   "id": "6017bf19-8aaf-442a-a0ad-5db03987ebaf",
   "metadata": {},
   "outputs": [],
   "source": [
    "train_df.drop('moyeneGeneral', axis=1, inplace=True)"
   ]
  },
  {
   "cell_type": "markdown",
   "id": "a747b663-0017-4223-841c-7fd13fb3ede2",
   "metadata": {},
   "source": [
    "# Encodage"
   ]
  },
  {
   "cell_type": "code",
   "execution_count": 1869,
   "id": "967c78ad-44be-4127-8f62-c216cb3039a2",
   "metadata": {},
   "outputs": [],
   "source": [
    "import pandas as pd\n",
    "from sklearn.ensemble import RandomForestClassifier\n",
    "from sklearn.preprocessing import LabelEncoder\n",
    "#le = LabelEncoder(unknown_value='unknown')\n",
    "# Convert the target variable to binary\n",
    "train_df['Decision'] = train_df['Decision'].apply(lambda x: 1 if x == 'Admis' else 0)\n",
    "# Encode categorical variables\n",
    "le = LabelEncoder()\n",
    "#train_df[\"Nom\"]=le.fit_transform(train_df[\"Nom\"])\n",
    "train_df[\"Serie,x\"] = le.fit_transform(train_df[\"Serie,x\"])\n",
    "train_df[\"GroupeAnonymat\"] = le.fit_transform(train_df[\"GroupeAnonymat\"])\n",
    "train_df[\"LieuNaissance\"] = le.fit_transform(train_df[\"LieuNaissance\"])\n",
    "train_df[\"Centre\"] = le.fit_transform(train_df[\"Centre\"])\n",
    "train_df[\"Etablissement\"] = le.fit_transform(train_df[\"Etablissement\"])\n",
    "train_df[\"Willaya\"] = le.fit_transform(train_df[\"Willaya\"])\n",
    "train_df[\"moughataa\"] = le.fit_transform(train_df[\"moughataa\"])\n",
    "#train_df[\"Decision\"] = le.fit_transform(train_df[\"Decision\"])\n",
    "train_df[\"ID\"] = le.fit_transform(train_df[\"ID\"])\n",
    "#train_df[\"Reussite\"]=le.fit_transform(train_df[\"Reussite\"])\n",
    "# Define X and y)\n",
    "#X_train = train_df.drop([\"Decision\"], axis=1)\n",
    "#y_train = train_df[\"Decision\"]\n",
    "\n"
   ]
  },
  {
   "cell_type": "raw",
   "id": "c7666709-42c5-46ed-9c9f-78edca664669",
   "metadata": {},
   "source": [
    "\n",
    "\n",
    "# Define X and y)\n",
    "X_train = train_df.drop([\"Decision\"], axis=1)\n",
    "y_train = train_df[\"Decision\"]"
   ]
  },
  {
   "cell_type": "code",
   "execution_count": 1870,
   "id": "80ab5d1c-702f-42bd-8284-e84f96f48774",
   "metadata": {},
   "outputs": [],
   "source": [
    "\n",
    "# Encode categorical variables\n",
    "#test_df[\"Nom\"]=le.fit_transform(test_df[\"Nom\"])\n",
    "test_df[\"Serie,x\"] = le.fit_transform(test_df[\"Serie,x\"])\n",
    "test_df[\"GroupeAnonymat\"] = le.fit_transform(test_df[\"GroupeAnonymat\"])\n",
    "test_df[\"LieuNaissance\"] = le.fit_transform(test_df[\"LieuNaissance\"])\n",
    "test_df[\"Centre\"] = le.fit_transform(test_df[\"Centre\"])\n",
    "test_df[\"Etablissement\"] = le.fit_transform(test_df[\"Etablissement\"])\n",
    "test_df[\"Willaya\"] = le.fit_transform(test_df[\"Willaya\"])\n",
    "test_df[\"moughataa\"] = le.fit_transform(test_df[\"moughataa\"])\n",
    "test_df[\"ID\"] = le.fit_transform(test_df[\"ID\"])\n",
    "\n",
    "# Define X_test\n",
    "X_test = test_df"
   ]
  },
  {
   "cell_type": "code",
   "execution_count": 1765,
   "id": "b524a44a-6c67-4a55-911a-33dca4335745",
   "metadata": {},
   "outputs": [
    {
     "data": {
      "text/plain": [
       "0    21921\n",
       "1     1973\n",
       "Name: Decision, dtype: int64"
      ]
     },
     "execution_count": 1765,
     "metadata": {},
     "output_type": "execute_result"
    }
   ],
   "source": [
    "train_df['Decision'].value_counts()\n"
   ]
  },
  {
   "cell_type": "code",
   "execution_count": 1871,
   "id": "a776434b-986a-47de-997b-8b4173e3e528",
   "metadata": {},
   "outputs": [],
   "source": [
    "class_counts = train_df['Decision'].value_counts()\n",
    "desired_class_counts = {0: class_counts.min(), 1: class_counts.min()}\n"
   ]
  },
  {
   "cell_type": "markdown",
   "id": "83c402b1-bd82-4b88-a35d-7644404cdae1",
   "metadata": {},
   "source": [
    "# xGboost "
   ]
  },
  {
   "cell_type": "code",
   "execution_count": null,
   "id": "75d51614-1051-4303-84c9-f03e3366e5e4",
   "metadata": {},
   "outputs": [],
   "source": [
    "import pandas as pd\n",
    "from sklearn.model_selection import train_test_split\n",
    "from sklearn.linear_model import LogisticRegression\n",
    "from sklearn.metrics import roc_auc_score\n",
    "\n",
    "# Define the features and target variable\n",
    "features = ['Serie,x', 'Centre', 'Etablissement', 'Willaya', 'moughataa','Age']\n",
    "target = 'Decision'\n",
    "\n",
    "\n",
    "\n",
    "import xgboost as xgb\n",
    "\n",
    "# Split the train set into train and validation sets\n",
    "train_df, val_df = train_test_split(train_df, test_size=0.2, random_state=42)\n",
    "X_train = train_df[features]\n",
    "y_train = train_df[target]\n",
    "X_val = val_df[features]\n",
    "y_val = val_df[target]\n",
    "model = xgb.XGBClassifier(n_estimators=1000, learning_rate=0.05, max_depth=5, subsample=0.8, colsample_bytree=0.8, objective='binary:logistic', random_state=42)\n",
    "\n",
    "# Train the model\n",
    "model.fit(X_train, y_train)\n",
    "\n",
    "# Predict on the validation set\n",
    "y_val_pred_proba = model.predict_proba(X_val)[:, 1]\n",
    "\n",
    "# Calculate ROC AUC score on the validation set\n",
    "auc_score = roc_auc_score(y_val, y_val_pred_proba)\n",
    "\n",
    "print(\"The ROC AUC score on the validation set is %.2f%%\" % (auc_score*100))\n",
    "\n",
    "# Add the predictions to the test dataset\n",
    "test_df['prediction'] = y_test_pred_proba\n",
    "\n",
    "\n",
    "\n",
    "#test_df[\"ID\"] = le.inverse_transform(test_df[\"ID\"])\n",
    "# Save the predictions to a CSV file\n",
    "f=pd.read_csv(\"C:/Users/hp/Desktop/bac-mauritanie-2022-predictive-modeling-challeng (1)/submission_template.csv\")\n",
    "\n",
    "submission_df = pd.DataFrame({\"Id\": f[\"Id\"], \"Predicted\": test_df['prediction']})\n",
    "# Save the predictions to a CSV file\n",
    "\n",
    "\n",
    "dt = submission_df.to_csv(\"C:/Users/hp/Desktop/bac-mauritanie-2022-predictive-modeling-challeng (1)/submission_template.csv\", index=False)"
   ]
  },
  {
   "cell_type": "code",
   "execution_count": 1570,
   "id": "b452432c-30ea-408f-a8b1-276cd486466f",
   "metadata": {},
   "outputs": [
    {
     "data": {
      "text/html": [
       "<div>\n",
       "<style scoped>\n",
       "    .dataframe tbody tr th:only-of-type {\n",
       "        vertical-align: middle;\n",
       "    }\n",
       "\n",
       "    .dataframe tbody tr th {\n",
       "        vertical-align: top;\n",
       "    }\n",
       "\n",
       "    .dataframe thead th {\n",
       "        text-align: right;\n",
       "    }\n",
       "</style>\n",
       "<table border=\"1\" class=\"dataframe\">\n",
       "  <thead>\n",
       "    <tr style=\"text-align: right;\">\n",
       "      <th></th>\n",
       "      <th>Id</th>\n",
       "      <th>Predicted</th>\n",
       "    </tr>\n",
       "  </thead>\n",
       "  <tbody>\n",
       "    <tr>\n",
       "      <th>0</th>\n",
       "      <td>ID_12</td>\n",
       "      <td>0.048780</td>\n",
       "    </tr>\n",
       "    <tr>\n",
       "      <th>1</th>\n",
       "      <td>ID_14</td>\n",
       "      <td>0.027285</td>\n",
       "    </tr>\n",
       "    <tr>\n",
       "      <th>2</th>\n",
       "      <td>ID_15</td>\n",
       "      <td>0.027285</td>\n",
       "    </tr>\n",
       "    <tr>\n",
       "      <th>3</th>\n",
       "      <td>ID_22</td>\n",
       "      <td>0.020324</td>\n",
       "    </tr>\n",
       "    <tr>\n",
       "      <th>4</th>\n",
       "      <td>ID_23</td>\n",
       "      <td>0.008323</td>\n",
       "    </tr>\n",
       "  </tbody>\n",
       "</table>\n",
       "</div>"
      ],
      "text/plain": [
       "      Id  Predicted\n",
       "0  ID_12   0.048780\n",
       "1  ID_14   0.027285\n",
       "2  ID_15   0.027285\n",
       "3  ID_22   0.020324\n",
       "4  ID_23   0.008323"
      ]
     },
     "execution_count": 1570,
     "metadata": {},
     "output_type": "execute_result"
    }
   ],
   "source": [
    "f=pd.read_csv(\"C:/Users/hp/Desktop/bac-mauritanie-2022-predictive-modeling-challeng (1)/submission_template.csv\")\n",
    "f.head()"
   ]
  },
  {
   "cell_type": "markdown",
   "id": "770ec3db-794b-435a-bbb9-12df705f37d8",
   "metadata": {},
   "source": [
    "# Logistic Regressiom"
   ]
  },
  {
   "cell_type": "code",
   "execution_count": 1885,
   "id": "13c6eb8e-811e-4b29-a6d8-766c1ff6199d",
   "metadata": {},
   "outputs": [
    {
     "name": "stdout",
     "output_type": "stream",
     "text": [
      "The ROC AUC score on the validation set is 69.54%\n"
     ]
    }
   ],
   "source": [
    "from sklearn.model_selection import train_test_split\n",
    "from sklearn.linear_model import LogisticRegression\n",
    "from sklearn.pipeline import make_pipeline\n",
    "from sklearn.preprocessing import StandardScaler\n",
    "from sklearn.metrics import roc_auc_score\n",
    "\n",
    "# Define the features and target variable\n",
    "features = [\"Serie,x\", \"Centre\", \"Etablissement\", \"Willaya\", \"moughataa\",\"Age\"]\n",
    "target = \"Decision\"\n",
    "\n",
    "# Split the train set into train and validation sets\n",
    "train_df, val_df = train_test_split(train_df, test_size=0.2, random_state=42)\n",
    "\n",
    "# Create logistic regression pipeline\n",
    "model = make_pipeline(StandardScaler(), LogisticRegression(max_iter=10000))\n",
    "\n",
    "# Train model on training data\n",
    "model.fit(train_df[features], train_df[target])\n",
    "\n",
    "# Make predictions on validation set\n",
    "probas = model.predict_proba(val_df[features])[:, 1]\n",
    "\n",
    "# Compute the ROC AUC score on the validation data\n",
    "auc_score = roc_auc_score(val_df[target], probas)\n",
    "\n",
    "print(\"The ROC AUC score on the validation set is %.2f%%\" % (auc_score*100))\n",
    "\n",
    "# Make predictions on the test data\n",
    "X_test = test_df[features]\n",
    "\n",
    "y_test_pred_proba = model.predict_proba(X_test)[:, 1]\n",
    "\n",
    "# Add the predictions to the test dataset\n",
    "test_df['prediction'] = y_test_pred_proba\n",
    "\n",
    "# Save the predictions to a CSV file\n",
    "f=pd.read_csv(\"C:/Users/hp/Downloads/bac-mauritanie-2022-predictive-modeling-challeng (2)/submission_logistic2.csv\")\n",
    "\n",
    "submission_df = pd.DataFrame({\"Id\": f[\"Id\"], \"Predicted\": test_df['prediction']})\n",
    "\n",
    "# Save the predictions to a CSV file\n",
    "dt = submission_df.to_csv(\"C:/Users/hp/Downloads/bac-mauritanie-2022-predictive-modeling-challeng (2)/submission_logistic2.csv\", index=False)\n"
   ]
  },
  {
   "cell_type": "code",
   "execution_count": 1886,
   "id": "246af0ea-831c-4b2a-9e53-b22b5e8ae852",
   "metadata": {},
   "outputs": [
    {
     "data": {
      "text/html": [
       "<div>\n",
       "<style scoped>\n",
       "    .dataframe tbody tr th:only-of-type {\n",
       "        vertical-align: middle;\n",
       "    }\n",
       "\n",
       "    .dataframe tbody tr th {\n",
       "        vertical-align: top;\n",
       "    }\n",
       "\n",
       "    .dataframe thead th {\n",
       "        text-align: right;\n",
       "    }\n",
       "</style>\n",
       "<table border=\"1\" class=\"dataframe\">\n",
       "  <thead>\n",
       "    <tr style=\"text-align: right;\">\n",
       "      <th></th>\n",
       "      <th>Id</th>\n",
       "      <th>Predicted</th>\n",
       "    </tr>\n",
       "  </thead>\n",
       "  <tbody>\n",
       "    <tr>\n",
       "      <th>0</th>\n",
       "      <td>ID_12</td>\n",
       "      <td>0.010147</td>\n",
       "    </tr>\n",
       "    <tr>\n",
       "      <th>1</th>\n",
       "      <td>ID_14</td>\n",
       "      <td>0.006578</td>\n",
       "    </tr>\n",
       "    <tr>\n",
       "      <th>2</th>\n",
       "      <td>ID_15</td>\n",
       "      <td>0.006973</td>\n",
       "    </tr>\n",
       "    <tr>\n",
       "      <th>3</th>\n",
       "      <td>ID_22</td>\n",
       "      <td>0.004766</td>\n",
       "    </tr>\n",
       "    <tr>\n",
       "      <th>4</th>\n",
       "      <td>ID_23</td>\n",
       "      <td>0.002674</td>\n",
       "    </tr>\n",
       "  </tbody>\n",
       "</table>\n",
       "</div>"
      ],
      "text/plain": [
       "      Id  Predicted\n",
       "0  ID_12   0.010147\n",
       "1  ID_14   0.006578\n",
       "2  ID_15   0.006973\n",
       "3  ID_22   0.004766\n",
       "4  ID_23   0.002674"
      ]
     },
     "execution_count": 1886,
     "metadata": {},
     "output_type": "execute_result"
    }
   ],
   "source": [
    "f.head()\n"
   ]
  },
  {
   "cell_type": "markdown",
   "id": "79a4b0df-e17f-4283-8eab-ff8a91be04d6",
   "metadata": {},
   "source": [
    "# RandomForest"
   ]
  },
  {
   "cell_type": "code",
   "execution_count": 1874,
   "id": "e6aedde0-7828-46ec-9720-888cb289783c",
   "metadata": {},
   "outputs": [
    {
     "name": "stdout",
     "output_type": "stream",
     "text": [
      "The accuracy score on the validation set is 82.68%\n"
     ]
    }
   ],
   "source": [
    "from sklearn.ensemble import RandomForestClassifier\n",
    "from sklearn.utils.class_weight import compute_class_weight\n",
    "from sklearn.metrics import accuracy_score as acc_score\n",
    "# Define the features and target variable\n",
    "features = [\"Serie,x\", \"Centre\", \"Etablissement\", \"Willaya\", \"moughataa\",\"Age\"]\n",
    "target = \"Decision\"\n",
    "\n",
    "# Compute class weights based on the distribution of classes in the training data\n",
    "class_weights = compute_class_weight('balanced', classes=[0, 1], y=train_df[target])\n",
    "class_weight_dict = {0: class_weights[0], 1: class_weights[1]}\n",
    "\n",
    "# Create the random forest model\n",
    "model = RandomForestClassifier(n_estimators=100, class_weight=class_weight_dict)\n",
    "\n",
    "# Fit the model to the training data\n",
    "model.fit(train_df[features], train_df[target])\n",
    "\n",
    "# Make predictions on the validation data\n",
    "y_val_pred = model.predict(val_df[features])\n",
    "\n",
    "# Compute the accuracy score on the validation data\n",
    "val_accuracy_score = acc_score(val_df[target], y_val_pred)\n",
    "\n",
    "\n",
    "print(\"The accuracy score on the validation set is %.2f%%\" % (val_accuracy_score*100))\n",
    "\n",
    "# Make predictions on the test data\n",
    "X_test = test_df[features]\n",
    "\n",
    "y_test_pred_proba = model.predict_proba(X_test)[:, 1]\n",
    "\n",
    "# Add the predictions to the test dataset\n",
    "test_df['prediction'] = y_test_pred_proba\n",
    "\n",
    "# Save the predictions to a CSV file\n",
    "f=pd.read_csv(\"C:/Users/hp/Downloads/bac-mauritanie-2022-predictive-modeling-challeng/submission_rf.csv\")\n",
    "\n",
    "submission_df = pd.DataFrame({\"Id\": f[\"Id\"], \"Predicted\": test_df['prediction']})\n",
    "# Save the predictions to a CSV file\n",
    "dt = submission_df.to_csv(\"C:/Users/hp/Downloads/bac-mauritanie-2022-predictive-modeling-challeng/submission_rf.csv\", index=False)\n"
   ]
  },
  {
   "cell_type": "code",
   "execution_count": 1875,
   "id": "4e232cd9-de96-4c13-a161-4f7bcbb4d4d7",
   "metadata": {},
   "outputs": [
    {
     "data": {
      "text/html": [
       "<div>\n",
       "<style scoped>\n",
       "    .dataframe tbody tr th:only-of-type {\n",
       "        vertical-align: middle;\n",
       "    }\n",
       "\n",
       "    .dataframe tbody tr th {\n",
       "        vertical-align: top;\n",
       "    }\n",
       "\n",
       "    .dataframe thead th {\n",
       "        text-align: right;\n",
       "    }\n",
       "</style>\n",
       "<table border=\"1\" class=\"dataframe\">\n",
       "  <thead>\n",
       "    <tr style=\"text-align: right;\">\n",
       "      <th></th>\n",
       "      <th>Id</th>\n",
       "      <th>Predicted</th>\n",
       "    </tr>\n",
       "  </thead>\n",
       "  <tbody>\n",
       "    <tr>\n",
       "      <th>0</th>\n",
       "      <td>ID_12</td>\n",
       "      <td>0.079500</td>\n",
       "    </tr>\n",
       "    <tr>\n",
       "      <th>1</th>\n",
       "      <td>ID_14</td>\n",
       "      <td>0.018333</td>\n",
       "    </tr>\n",
       "    <tr>\n",
       "      <th>2</th>\n",
       "      <td>ID_15</td>\n",
       "      <td>0.018333</td>\n",
       "    </tr>\n",
       "    <tr>\n",
       "      <th>3</th>\n",
       "      <td>ID_22</td>\n",
       "      <td>0.026667</td>\n",
       "    </tr>\n",
       "    <tr>\n",
       "      <th>4</th>\n",
       "      <td>ID_23</td>\n",
       "      <td>0.020000</td>\n",
       "    </tr>\n",
       "  </tbody>\n",
       "</table>\n",
       "</div>"
      ],
      "text/plain": [
       "      Id  Predicted\n",
       "0  ID_12   0.079500\n",
       "1  ID_14   0.018333\n",
       "2  ID_15   0.018333\n",
       "3  ID_22   0.026667\n",
       "4  ID_23   0.020000"
      ]
     },
     "execution_count": 1875,
     "metadata": {},
     "output_type": "execute_result"
    }
   ],
   "source": [
    "f.head()"
   ]
  },
  {
   "cell_type": "code",
   "execution_count": null,
   "id": "894d45f5-b892-4f41-8573-416e4bdc5a58",
   "metadata": {},
   "outputs": [],
   "source": []
  },
  {
   "cell_type": "code",
   "execution_count": null,
   "id": "8ad0a7e7-20e5-41c5-b975-4d6101c2a124",
   "metadata": {},
   "outputs": [],
   "source": []
  },
  {
   "cell_type": "code",
   "execution_count": null,
   "id": "d6dd6b2f-804b-47e9-849e-b917cc729a81",
   "metadata": {},
   "outputs": [],
   "source": []
  }
 ],
 "metadata": {
  "kernelspec": {
   "display_name": "Python 3 (ipykernel)",
   "language": "python",
   "name": "python3"
  },
  "language_info": {
   "codemirror_mode": {
    "name": "ipython",
    "version": 3
   },
   "file_extension": ".py",
   "mimetype": "text/x-python",
   "name": "python",
   "nbconvert_exporter": "python",
   "pygments_lexer": "ipython3",
   "version": "3.8.13"
  }
 },
 "nbformat": 4,
 "nbformat_minor": 5
}
